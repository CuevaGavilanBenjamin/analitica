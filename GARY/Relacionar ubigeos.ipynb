{
 "cells": [
  {
   "cell_type": "code",
   "execution_count": 4,
   "metadata": {
    "colab": {
     "base_uri": "https://localhost:8080/"
    },
    "executionInfo": {
     "elapsed": 2618,
     "status": "ok",
     "timestamp": 1745640064250,
     "user": {
      "displayName": "Gary Fernandez",
      "userId": "17994023641313093105"
     },
     "user_tz": 300
    },
    "id": "Q9MDC5DA9m3i",
    "outputId": "6ba20baf-9890-41fa-ee7b-ef4d7f1a06c5"
   },
   "outputs": [
    {
     "name": "stdout",
     "output_type": "stream",
     "text": [
      "Requirement already satisfied: unidecode in c:\\users\\benjamin\\appdata\\local\\programs\\python\\python311\\lib\\site-packages (1.4.0)\n",
      "Note: you may need to restart the kernel to use updated packages.\n"
     ]
    }
   ],
   "source": [
    "%pip install unidecode"
   ]
  },
  {
   "cell_type": "code",
   "execution_count": 7,
   "metadata": {
    "executionInfo": {
     "elapsed": 5,
     "status": "ok",
     "timestamp": 1745640067999,
     "user": {
      "displayName": "Gary Fernandez",
      "userId": "17994023641313093105"
     },
     "user_tz": 300
    },
    "id": "78CssHTX94sF"
   },
   "outputs": [],
   "source": [
    "import unidecode\n",
    "import pandas as pd\n"
   ]
  },
  {
   "cell_type": "code",
   "execution_count": 6,
   "metadata": {
    "executionInfo": {
     "elapsed": 38,
     "status": "ok",
     "timestamp": 1745640066942,
     "user": {
      "displayName": "Gary Fernandez",
      "userId": "17994023641313093105"
     },
     "user_tz": 300
    },
    "id": "4x1yisVE2Xi2"
   },
   "outputs": [],
   "source": [
    "sin_ubigeo = pd.read_csv('pgh_data.csv')\n",
    "con_ubigeo = pd.read_csv('Movimiento_Distrito.csv')"
   ]
  },
  {
   "cell_type": "code",
   "execution_count": 8,
   "metadata": {
    "executionInfo": {
     "elapsed": 39,
     "status": "ok",
     "timestamp": 1745637312755,
     "user": {
      "displayName": "Gary Fernandez",
      "userId": "17994023641313093105"
     },
     "user_tz": 300
    },
    "id": "DQjfjHl52sCM"
   },
   "outputs": [],
   "source": [
    "import unidecode\n",
    "\n",
    "def normalizar(texto):\n",
    "    if pd.isna(texto):\n",
    "        return texto\n",
    "    texto = str(texto).strip().upper()               # mayúsculas y sin espacios extremos\n",
    "    texto = unidecode.unidecode(texto)               # quitar tildes\n",
    "    return texto\n",
    "\n",
    "# Normalizar en ambos dataframes\n",
    "for df in [sin_ubigeo, con_ubigeo]:\n",
    "    for col in ['Departamento', 'Provincia', 'Distrito']:\n",
    "        df[col] = df[col].apply(normalizar)\n",
    "\n",
    "merged = pd.merge(\n",
    "    sin_ubigeo,\n",
    "    con_ubigeo[['Departamento', 'Provincia', 'Distrito', 'Código']],\n",
    "    on=['Departamento', 'Provincia', 'Distrito'],\n",
    "    how='left'\n",
    ")\n",
    "\n",
    "# seleccionar las columnas originales + Código\n",
    "final = merged[['Código'] + sin_ubigeo.columns.tolist()]\n",
    "final['Código'] = final['Código'].astype('Int64') #pasar codigo a enteros\n",
    "final\n",
    "# guardar en CSV\n",
    "final.to_csv('pgh_peru.csv', index=False)\n",
    "\n",
    "\n",
    "\n",
    "\n"
   ]
  }
 ],
 "metadata": {
  "colab": {
   "authorship_tag": "ABX9TyN2QNBlesFsWnWKn9eE7nyZ",
   "provenance": []
  },
  "kernelspec": {
   "display_name": "Python 3",
   "name": "python3"
  },
  "language_info": {
   "codemirror_mode": {
    "name": "ipython",
    "version": 3
   },
   "file_extension": ".py",
   "mimetype": "text/x-python",
   "name": "python",
   "nbconvert_exporter": "python",
   "pygments_lexer": "ipython3",
   "version": "3.11.8"
  }
 },
 "nbformat": 4,
 "nbformat_minor": 0
}
