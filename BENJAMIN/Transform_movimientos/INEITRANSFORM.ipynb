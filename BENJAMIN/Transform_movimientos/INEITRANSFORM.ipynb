{
 "cells": [
  {
   "cell_type": "code",
   "execution_count": 1,
   "id": "d2f3c2cd",
   "metadata": {},
   "outputs": [],
   "source": [
    "import pandas as pd"
   ]
  },
  {
   "cell_type": "code",
   "execution_count": 2,
   "id": "5cc83143",
   "metadata": {},
   "outputs": [],
   "source": [
    "#Extraccion de los csv \n",
    "df_dep=pd.read_csv(\"..\\Extract_movimientos\\Movimiento_Departamento.csv\")\n",
    "df_pro=pd.read_csv(\"..\\Extract_movimientos\\Movimiento_Provincia.csv\")\n",
    "df_dist = pd.read_csv(\"..\\Extract_movimientos\\Movimientos_Distrito.csv\", on_bad_lines='skip')\n"
   ]
  },
  {
   "cell_type": "code",
   "execution_count": 236,
   "id": "dd219eed",
   "metadata": {},
   "outputs": [],
   "source": [
    "df_pro.rename(columns={\"Departamento\":\"Provincia\"},inplace=True)\n",
    "df_dist.rename(columns={\"Departamento\":\"Distrito\"},inplace=True)"
   ]
  },
  {
   "cell_type": "code",
   "execution_count": 237,
   "id": "f4c343bc",
   "metadata": {},
   "outputs": [
    {
     "data": {
      "text/plain": [
       "0            Amazonas, Chachapoyas, distrito: Chachapoyas\n",
       "1               Amazonas, Chachapoyas, distrito: Asunción\n",
       "2                 Amazonas, Chachapoyas, distrito: Balsas\n",
       "3                  Amazonas, Chachapoyas, distrito: Cheto\n",
       "4              Amazonas, Chachapoyas, distrito: Chiliquin\n",
       "                              ...                        \n",
       "1868               Ucayali, Padre Abad, distrito: Irazola\n",
       "1869              Ucayali, Padre Abad, distrito: Curimana\n",
       "1870               Ucayali, Padre Abad, distrito: Neshuya\n",
       "1871    Ucayali, Padre Abad, distrito: Alexander Von H...\n",
       "1872                      Ucayali, Purús, distrito: Purús\n",
       "Name: Distrito, Length: 1873, dtype: object"
      ]
     },
     "execution_count": 237,
     "metadata": {},
     "output_type": "execute_result"
    }
   ],
   "source": [
    "df_dist[0:][\"Distrito\"]"
   ]
  },
  {
   "cell_type": "code",
   "execution_count": 238,
   "id": "312ac7b9",
   "metadata": {},
   "outputs": [],
   "source": [
    "#Agregando columnas a la tabla Distrito para darle mejor formato\n",
    "lista=df_dist[0:][\"Distrito\"]\n",
    "Departamento=[]\n",
    "Provincia=[]\n",
    "Distrito=[]\n",
    "for text in lista:\n",
    "    linea=text.split(\",\")\n",
    "    Departamento.append(linea[0])\n",
    "    Provincia.append(linea[1][1:])\n",
    "    dist=linea[-1].split(\":\")\n",
    "    Distrito.append(dist[-1][1:])\n",
    "\n",
    "df_dist.insert(1,\"Departamento\",Departamento)\n",
    "df_dist.insert(2,\"Provincia\",Provincia)\n",
    "df_dist[\"Distrito\"]=Distrito\n"
   ]
  },
  {
   "cell_type": "code",
   "execution_count": 239,
   "id": "d2c87586",
   "metadata": {},
   "outputs": [
    {
     "data": {
      "text/plain": [
       "0                  Chachapoyas\n",
       "1                     Asunción\n",
       "2                       Balsas\n",
       "3                        Cheto\n",
       "4                    Chiliquin\n",
       "                 ...          \n",
       "1868                   Irazola\n",
       "1869                  Curimana\n",
       "1870                   Neshuya\n",
       "1871    Alexander Von Humboldt\n",
       "1872                     Purús\n",
       "Name: Distrito, Length: 1873, dtype: object"
      ]
     },
     "execution_count": 239,
     "metadata": {},
     "output_type": "execute_result"
    }
   ],
   "source": [
    "df_dist[0:][\"Distrito\"]"
   ]
  },
  {
   "cell_type": "code",
   "execution_count": 240,
   "id": "c87bbdc1",
   "metadata": {},
   "outputs": [],
   "source": [
    "#Agregando columnas a la tabla Provincia para darle mejor formato\n",
    "lista=df_pro[0:][\"Provincia\"] \n",
    "Departamento=[]\n",
    "Provincia=[]\n",
    "for text in lista:\n",
    "    prueba=text.split(\".\")\n",
    "    if len(prueba)==2:\n",
    "        #encontre madre de dios\n",
    "        linea=prueba[0].split(\" \")\n",
    "        dep=linea[0]+\" \"+linea[1]+\" \"+linea[2]\n",
    "        Departamento.append(dep)\n",
    "        linea=prueba[-1].split(\" \")\n",
    "        prov=linea[-1]\n",
    "        Provincia.append(prov)\n",
    "    else:\n",
    "        linea=text.split(\",\")\n",
    "        Departamento.append(linea[0])\n",
    "        prov=linea[-1].split(\" \")\n",
    "        Provincia.append(prov[-1])\n",
    "df_pro.insert(1,\"Departamento\",Departamento)\n",
    "df_pro[\"Provincia\"]=Provincia"
   ]
  },
  {
   "cell_type": "code",
   "execution_count": 242,
   "id": "137286a6",
   "metadata": {},
   "outputs": [],
   "source": [
    "#Modificando la columna Departamento de la tabla df_dep para darle mejor formato\n",
    "lista=df_dep[0:][\"Departamento\"]\n",
    "Departamento=[]\n",
    "for text in lista:\n",
    "    if text==\"Departamento: Madre de Dios\":\n",
    "        linea=text.split(\":\")\n",
    "        Departamento.append(linea[-1][1:])\n",
    "    else:\n",
    "        linea=text.split(\" \")\n",
    "        Departamento.append(linea[-1])\n",
    "df_dep[\"Departamento\"]=Departamento"
   ]
  },
  {
   "cell_type": "code",
   "execution_count": 243,
   "id": "1648b95c",
   "metadata": {},
   "outputs": [],
   "source": [
    "df_dist.to_csv(\"Movimiento_Distrito.csv\",index=False)\n",
    "df_pro.to_csv(\"Movimiento_Provincia.csv\",index=False)\n",
    "df_dep.to_csv(\"Movimiento_Departamento.csv\",index=False)\n"
   ]
  },
  {
   "cell_type": "code",
   "execution_count": null,
   "id": "6b140340",
   "metadata": {},
   "outputs": [],
   "source": []
  }
 ],
 "metadata": {
  "kernelspec": {
   "display_name": "Python 3",
   "language": "python",
   "name": "python3"
  },
  "language_info": {
   "codemirror_mode": {
    "name": "ipython",
    "version": 3
   },
   "file_extension": ".py",
   "mimetype": "text/x-python",
   "name": "python",
   "nbconvert_exporter": "python",
   "pygments_lexer": "ipython3",
   "version": "3.11.8"
  }
 },
 "nbformat": 4,
 "nbformat_minor": 5
}
