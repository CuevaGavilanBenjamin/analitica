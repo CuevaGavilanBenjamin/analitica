{
 "cells": [
  {
   "cell_type": "code",
   "execution_count": 180,
   "id": "6f1cccfd",
   "metadata": {},
   "outputs": [
    {
     "name": "stdout",
     "output_type": "stream",
     "text": [
      "Requirement already satisfied: requests in c:\\users\\benjamin\\appdata\\local\\programs\\python\\python311\\lib\\site-packages (2.32.3)\n",
      "Requirement already satisfied: charset-normalizer<4,>=2 in c:\\users\\benjamin\\appdata\\local\\programs\\python\\python311\\lib\\site-packages (from requests) (3.4.1)\n",
      "Requirement already satisfied: idna<4,>=2.5 in c:\\users\\benjamin\\appdata\\local\\programs\\python\\python311\\lib\\site-packages (from requests) (3.10)\n",
      "Requirement already satisfied: urllib3<3,>=1.21.1 in c:\\users\\benjamin\\appdata\\local\\programs\\python\\python311\\lib\\site-packages (from requests) (2.3.0)\n",
      "Requirement already satisfied: certifi>=2017.4.17 in c:\\users\\benjamin\\appdata\\local\\programs\\python\\python311\\lib\\site-packages (from requests) (2025.1.31)\n",
      "Note: you may need to restart the kernel to use updated packages.\n"
     ]
    }
   ],
   "source": [
    "%pip install requests"
   ]
  },
  {
   "cell_type": "code",
   "execution_count": 181,
   "id": "d2f3c2cd",
   "metadata": {},
   "outputs": [],
   "source": [
    "import pandas as pd"
   ]
  },
  {
   "cell_type": "code",
   "execution_count": 182,
   "id": "5cc83143",
   "metadata": {},
   "outputs": [],
   "source": [
    "#Extraccion de los csv \n",
    "df_dep=pd.read_csv(\"..\\Extract_movimientos\\Movimiento_Departamento.csv\")\n",
    "df_pro=pd.read_csv(\"..\\Extract_movimientos\\Movimiento_Provincia.csv\")\n",
    "df_mov=pd.read_csv(\"..\\Extract_movimientos\\Movimientos_Distrito.csv\")"
   ]
  },
  {
   "cell_type": "code",
   "execution_count": 183,
   "id": "dd219eed",
   "metadata": {},
   "outputs": [],
   "source": [
    "df_pro.rename(columns={\"Departamento\":\"Provincia\"},inplace=True)\n",
    "df_mov.rename(columns={\"Departamento\":\"Distrito\"},inplace=True)"
   ]
  },
  {
   "cell_type": "code",
   "execution_count": 184,
   "id": "312ac7b9",
   "metadata": {},
   "outputs": [],
   "source": [
    "#Agregando columnas a la tabla Distrito para darle mejor formato\n",
    "lista=df_mov[0:][\"Distrito\"]\n",
    "Departamento=[]\n",
    "Provincia=[]\n",
    "Distrito=[]\n",
    "for text in lista:\n",
    "    linea=text.split(\",\")\n",
    "    Departamento.append(linea[0])\n",
    "    Provincia.append(linea[1][1:])\n",
    "    dist=linea[-1].split(\" \")\n",
    "    Distrito.append(dist[-1])\n",
    "\n",
    "df_mov.insert(1,\"Departamento\",Departamento)\n",
    "df_mov.insert(2,\"Provincia\",Provincia)\n",
    "df_mov[\"Distrito\"]=Distrito\n"
   ]
  },
  {
   "cell_type": "code",
   "execution_count": 185,
   "id": "c87bbdc1",
   "metadata": {},
   "outputs": [],
   "source": [
    "#Agregando columnas a la tabla Provincia para darle mejor formato\n",
    "lista=df_pro[0:][\"Provincia\"] \n",
    "Departamento=[]\n",
    "Provincia=[]\n",
    "for text in lista:\n",
    "    prueba=text.split(\".\")\n",
    "    if len(prueba)==2:\n",
    "        #encontre madre de dios\n",
    "        linea=prueba[0].split(\" \")\n",
    "        dep=linea[0]+\" \"+linea[1]+\" \"+linea[2]\n",
    "        Departamento.append(dep)\n",
    "        linea=prueba[-1].split(\" \")\n",
    "        prov=linea[-1]\n",
    "        Provincia.append(prov)\n",
    "    else:\n",
    "        linea=text.split(\",\")\n",
    "        Departamento.append(linea[0])\n",
    "        prov=linea[-1].split(\" \")\n",
    "        Provincia.append(prov[-1])\n",
    "df_pro.insert(1,\"Departamento\",Departamento)\n",
    "df_pro[\"Provincia\"]=Provincia"
   ]
  },
  {
   "cell_type": "code",
   "execution_count": 186,
   "id": "f23b49e2",
   "metadata": {},
   "outputs": [
    {
     "data": {
      "text/plain": [
       "0       Chachapoyas\n",
       "1             Bagua\n",
       "2           Bongara\n",
       "3      Condorcanqui\n",
       "4              Luya\n",
       "           ...     \n",
       "191       Zarumilla\n",
       "192        Portillo\n",
       "193         Atalaya\n",
       "194            Abad\n",
       "195           Purús\n",
       "Name: Provincia, Length: 196, dtype: object"
      ]
     },
     "execution_count": 186,
     "metadata": {},
     "output_type": "execute_result"
    }
   ],
   "source": [
    "lista=df_pro[0:][\"Provincia\"] \n",
    "lista\n",
    "#Madre de Dios prov. de Manu"
   ]
  },
  {
   "cell_type": "code",
   "execution_count": 187,
   "id": "137286a6",
   "metadata": {},
   "outputs": [],
   "source": [
    "#Modificando la columna Departamento de la tabla df_dep para darle mejor formato\n",
    "lista=df_dep[0:][\"Departamento\"]\n",
    "Departamento=[]\n",
    "for text in lista:\n",
    "    if text==\"Departamento: Madre de Dios\":\n",
    "        linea=text.split(\":\")\n",
    "        Departamento.append(linea[-1][1:])\n",
    "    else:\n",
    "        linea=text.split(\" \")\n",
    "        Departamento.append(linea[-1])\n",
    "df_dep[\"Departamento\"]=Departamento"
   ]
  },
  {
   "cell_type": "code",
   "execution_count": 188,
   "id": "1648b95c",
   "metadata": {},
   "outputs": [],
   "source": [
    "df_mov.to_csv(\"Movimiento_Distrito.csv\",index=False)\n",
    "df_pro.to_csv(\"Movimiento_Provincia.csv\",index=False)\n",
    "df_dep.to_csv(\"Movimiento_Departamento.csv\",index=False)\n"
   ]
  },
  {
   "cell_type": "code",
   "execution_count": null,
   "id": "6b140340",
   "metadata": {},
   "outputs": [],
   "source": []
  }
 ],
 "metadata": {
  "kernelspec": {
   "display_name": "Python 3",
   "language": "python",
   "name": "python3"
  },
  "language_info": {
   "codemirror_mode": {
    "name": "ipython",
    "version": 3
   },
   "file_extension": ".py",
   "mimetype": "text/x-python",
   "name": "python",
   "nbconvert_exporter": "python",
   "pygments_lexer": "ipython3",
   "version": "3.11.8"
  }
 },
 "nbformat": 4,
 "nbformat_minor": 5
}
