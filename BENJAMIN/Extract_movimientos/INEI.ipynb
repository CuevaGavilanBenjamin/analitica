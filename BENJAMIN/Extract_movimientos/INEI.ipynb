{
 "cells": [
  {
   "cell_type": "code",
   "execution_count": null,
   "id": "c5eb2d2d",
   "metadata": {},
   "outputs": [
    {
     "name": "stdout",
     "output_type": "stream",
     "text": [
      "Found existing installation: pandas 2.0.3\n",
      "Uninstalling pandas-2.0.3:\n",
      "  Successfully uninstalled pandas-2.0.3\n",
      "Found existing installation: numpy 1.24.4\n",
      "Uninstalling numpy-1.24.4:\n",
      "  Successfully uninstalled numpy-1.24.4\n",
      "Note: you may need to restart the kernel to use updated packages.\n"
     ]
    },
    {
     "name": "stderr",
     "output_type": "stream",
     "text": [
      "WARNING: Failed to remove contents in a temporary directory 'C:\\Users\\Benjamin\\AppData\\Local\\Programs\\Python\\Python311\\Lib\\site-packages\\~andas'.\n",
      "You can safely remove it manually.\n",
      "WARNING: Failed to remove contents in a temporary directory 'C:\\Users\\Benjamin\\AppData\\Local\\Programs\\Python\\Python311\\Lib\\site-packages\\~umpy'.\n",
      "You can safely remove it manually.\n"
     ]
    }
   ],
   "source": [
    "%pip uninstall -y pandas numpy"
   ]
  },
  {
   "cell_type": "code",
   "execution_count": null,
   "id": "ac03bbe0",
   "metadata": {},
   "outputs": [
    {
     "name": "stdout",
     "output_type": "stream",
     "text": [
      "Note: you may need to restart the kernel to use updated packages.\n"
     ]
    },
    {
     "name": "stderr",
     "output_type": "stream",
     "text": [
      "WARNING: Package(s) not found: pandas\n"
     ]
    },
    {
     "name": "stdout",
     "output_type": "stream",
     "text": [
      "Note: you may need to restart the kernel to use updated packages.\n"
     ]
    },
    {
     "name": "stderr",
     "output_type": "stream",
     "text": [
      "WARNING: Package(s) not found: numpy\n"
     ]
    }
   ],
   "source": [
    "%pip show pandas\n",
    "%pip show numpy\n"
   ]
  },
  {
   "cell_type": "code",
   "execution_count": 7,
   "id": "785b7b4a",
   "metadata": {},
   "outputs": [
    {
     "name": "stdout",
     "output_type": "stream",
     "text": [
      "Collecting numpy==1.24.4\n",
      "  Using cached numpy-1.24.4-cp311-cp311-win_amd64.whl.metadata (5.6 kB)\n",
      "Collecting pandas==2.0.3\n",
      "  Using cached pandas-2.0.3-cp311-cp311-win_amd64.whl.metadata (18 kB)\n",
      "Requirement already satisfied: python-dateutil>=2.8.2 in c:\\users\\benjamin\\appdata\\roaming\\python\\python311\\site-packages (from pandas==2.0.3) (2.9.0.post0)\n",
      "Requirement already satisfied: pytz>=2020.1 in c:\\users\\benjamin\\appdata\\local\\programs\\python\\python311\\lib\\site-packages (from pandas==2.0.3) (2025.1)\n",
      "Requirement already satisfied: tzdata>=2022.1 in c:\\users\\benjamin\\appdata\\local\\programs\\python\\python311\\lib\\site-packages (from pandas==2.0.3) (2025.1)\n",
      "Requirement already satisfied: six>=1.5 in c:\\users\\benjamin\\appdata\\roaming\\python\\python311\\site-packages (from python-dateutil>=2.8.2->pandas==2.0.3) (1.17.0)\n",
      "Using cached numpy-1.24.4-cp311-cp311-win_amd64.whl (14.8 MB)\n",
      "Using cached pandas-2.0.3-cp311-cp311-win_amd64.whl (10.6 MB)\n",
      "Installing collected packages: numpy, pandas\n",
      "Successfully installed numpy-1.24.4 pandas-2.0.3\n",
      "Note: you may need to restart the kernel to use updated packages.\n"
     ]
    },
    {
     "name": "stderr",
     "output_type": "stream",
     "text": [
      "  WARNING: The script f2py.exe is installed in 'c:\\Users\\Benjamin\\AppData\\Local\\Programs\\Python\\Python311\\Scripts' which is not on PATH.\n",
      "  Consider adding this directory to PATH or, if you prefer to suppress this warning, use --no-warn-script-location.\n"
     ]
    }
   ],
   "source": [
    "%pip install numpy==1.24.4 pandas==2.0.3"
   ]
  },
  {
   "cell_type": "code",
   "execution_count": 8,
   "id": "bf82e6dd",
   "metadata": {},
   "outputs": [
    {
     "name": "stdout",
     "output_type": "stream",
     "text": [
      "Requirement already satisfied: selenium in c:\\users\\benjamin\\appdata\\local\\programs\\python\\python311\\lib\\site-packages (4.31.0)\n",
      "Requirement already satisfied: urllib3<3,>=1.26 in c:\\users\\benjamin\\appdata\\local\\programs\\python\\python311\\lib\\site-packages (from urllib3[socks]<3,>=1.26->selenium) (2.3.0)\n",
      "Requirement already satisfied: trio~=0.17 in c:\\users\\benjamin\\appdata\\local\\programs\\python\\python311\\lib\\site-packages (from selenium) (0.29.0)\n",
      "Requirement already satisfied: trio-websocket~=0.9 in c:\\users\\benjamin\\appdata\\local\\programs\\python\\python311\\lib\\site-packages (from selenium) (0.12.2)\n",
      "Requirement already satisfied: certifi>=2021.10.8 in c:\\users\\benjamin\\appdata\\local\\programs\\python\\python311\\lib\\site-packages (from selenium) (2025.1.31)\n",
      "Requirement already satisfied: typing_extensions~=4.9 in c:\\users\\benjamin\\appdata\\roaming\\python\\python311\\site-packages (from selenium) (4.12.2)\n",
      "Requirement already satisfied: websocket-client~=1.8 in c:\\users\\benjamin\\appdata\\local\\programs\\python\\python311\\lib\\site-packages (from selenium) (1.8.0)\n",
      "Requirement already satisfied: attrs>=23.2.0 in c:\\users\\benjamin\\appdata\\local\\programs\\python\\python311\\lib\\site-packages (from trio~=0.17->selenium) (25.1.0)\n",
      "Requirement already satisfied: sortedcontainers in c:\\users\\benjamin\\appdata\\local\\programs\\python\\python311\\lib\\site-packages (from trio~=0.17->selenium) (2.4.0)\n",
      "Requirement already satisfied: idna in c:\\users\\benjamin\\appdata\\local\\programs\\python\\python311\\lib\\site-packages (from trio~=0.17->selenium) (3.10)\n",
      "Requirement already satisfied: outcome in c:\\users\\benjamin\\appdata\\local\\programs\\python\\python311\\lib\\site-packages (from trio~=0.17->selenium) (1.3.0.post0)\n",
      "Requirement already satisfied: sniffio>=1.3.0 in c:\\users\\benjamin\\appdata\\local\\programs\\python\\python311\\lib\\site-packages (from trio~=0.17->selenium) (1.3.1)\n",
      "Requirement already satisfied: cffi>=1.14 in c:\\users\\benjamin\\appdata\\local\\programs\\python\\python311\\lib\\site-packages (from trio~=0.17->selenium) (1.17.1)\n",
      "Requirement already satisfied: wsproto>=0.14 in c:\\users\\benjamin\\appdata\\local\\programs\\python\\python311\\lib\\site-packages (from trio-websocket~=0.9->selenium) (1.2.0)\n",
      "Requirement already satisfied: pysocks!=1.5.7,<2.0,>=1.5.6 in c:\\users\\benjamin\\appdata\\local\\programs\\python\\python311\\lib\\site-packages (from urllib3[socks]<3,>=1.26->selenium) (1.7.1)\n",
      "Requirement already satisfied: pycparser in c:\\users\\benjamin\\appdata\\local\\programs\\python\\python311\\lib\\site-packages (from cffi>=1.14->trio~=0.17->selenium) (2.22)\n",
      "Requirement already satisfied: h11<1,>=0.9.0 in c:\\users\\benjamin\\appdata\\local\\programs\\python\\python311\\lib\\site-packages (from wsproto>=0.14->trio-websocket~=0.9->selenium) (0.14.0)\n",
      "Note: you may need to restart the kernel to use updated packages.\n",
      "Requirement already satisfied: selenium in c:\\users\\benjamin\\appdata\\local\\programs\\python\\python311\\lib\\site-packages (4.31.0)\n",
      "Requirement already satisfied: webdriver-manager in c:\\users\\benjamin\\appdata\\local\\programs\\python\\python311\\lib\\site-packages (4.0.2)\n",
      "Requirement already satisfied: pandas in c:\\users\\benjamin\\appdata\\local\\programs\\python\\python311\\lib\\site-packages (2.0.3)\n",
      "Requirement already satisfied: urllib3<3,>=1.26 in c:\\users\\benjamin\\appdata\\local\\programs\\python\\python311\\lib\\site-packages (from urllib3[socks]<3,>=1.26->selenium) (2.3.0)\n",
      "Requirement already satisfied: trio~=0.17 in c:\\users\\benjamin\\appdata\\local\\programs\\python\\python311\\lib\\site-packages (from selenium) (0.29.0)\n",
      "Requirement already satisfied: trio-websocket~=0.9 in c:\\users\\benjamin\\appdata\\local\\programs\\python\\python311\\lib\\site-packages (from selenium) (0.12.2)\n",
      "Requirement already satisfied: certifi>=2021.10.8 in c:\\users\\benjamin\\appdata\\local\\programs\\python\\python311\\lib\\site-packages (from selenium) (2025.1.31)\n",
      "Requirement already satisfied: typing_extensions~=4.9 in c:\\users\\benjamin\\appdata\\roaming\\python\\python311\\site-packages (from selenium) (4.12.2)\n",
      "Requirement already satisfied: websocket-client~=1.8 in c:\\users\\benjamin\\appdata\\local\\programs\\python\\python311\\lib\\site-packages (from selenium) (1.8.0)\n",
      "Requirement already satisfied: requests in c:\\users\\benjamin\\appdata\\local\\programs\\python\\python311\\lib\\site-packages (from webdriver-manager) (2.32.3)\n",
      "Requirement already satisfied: python-dotenv in c:\\users\\benjamin\\appdata\\local\\programs\\python\\python311\\lib\\site-packages (from webdriver-manager) (1.1.0)\n",
      "Requirement already satisfied: packaging in c:\\users\\benjamin\\appdata\\roaming\\python\\python311\\site-packages (from webdriver-manager) (24.2)\n",
      "Requirement already satisfied: python-dateutil>=2.8.2 in c:\\users\\benjamin\\appdata\\roaming\\python\\python311\\site-packages (from pandas) (2.9.0.post0)\n",
      "Requirement already satisfied: pytz>=2020.1 in c:\\users\\benjamin\\appdata\\local\\programs\\python\\python311\\lib\\site-packages (from pandas) (2025.1)\n",
      "Requirement already satisfied: tzdata>=2022.1 in c:\\users\\benjamin\\appdata\\local\\programs\\python\\python311\\lib\\site-packages (from pandas) (2025.1)\n",
      "Requirement already satisfied: numpy>=1.21.0 in c:\\users\\benjamin\\appdata\\local\\programs\\python\\python311\\lib\\site-packages (from pandas) (1.24.4)\n",
      "Requirement already satisfied: six>=1.5 in c:\\users\\benjamin\\appdata\\roaming\\python\\python311\\site-packages (from python-dateutil>=2.8.2->pandas) (1.17.0)\n",
      "Requirement already satisfied: attrs>=23.2.0 in c:\\users\\benjamin\\appdata\\local\\programs\\python\\python311\\lib\\site-packages (from trio~=0.17->selenium) (25.1.0)\n",
      "Requirement already satisfied: sortedcontainers in c:\\users\\benjamin\\appdata\\local\\programs\\python\\python311\\lib\\site-packages (from trio~=0.17->selenium) (2.4.0)\n",
      "Requirement already satisfied: idna in c:\\users\\benjamin\\appdata\\local\\programs\\python\\python311\\lib\\site-packages (from trio~=0.17->selenium) (3.10)\n",
      "Requirement already satisfied: outcome in c:\\users\\benjamin\\appdata\\local\\programs\\python\\python311\\lib\\site-packages (from trio~=0.17->selenium) (1.3.0.post0)\n",
      "Requirement already satisfied: sniffio>=1.3.0 in c:\\users\\benjamin\\appdata\\local\\programs\\python\\python311\\lib\\site-packages (from trio~=0.17->selenium) (1.3.1)\n",
      "Requirement already satisfied: cffi>=1.14 in c:\\users\\benjamin\\appdata\\local\\programs\\python\\python311\\lib\\site-packages (from trio~=0.17->selenium) (1.17.1)\n",
      "Requirement already satisfied: wsproto>=0.14 in c:\\users\\benjamin\\appdata\\local\\programs\\python\\python311\\lib\\site-packages (from trio-websocket~=0.9->selenium) (1.2.0)\n",
      "Requirement already satisfied: pysocks!=1.5.7,<2.0,>=1.5.6 in c:\\users\\benjamin\\appdata\\local\\programs\\python\\python311\\lib\\site-packages (from urllib3[socks]<3,>=1.26->selenium) (1.7.1)\n",
      "Requirement already satisfied: charset-normalizer<4,>=2 in c:\\users\\benjamin\\appdata\\local\\programs\\python\\python311\\lib\\site-packages (from requests->webdriver-manager) (3.4.1)\n",
      "Requirement already satisfied: pycparser in c:\\users\\benjamin\\appdata\\local\\programs\\python\\python311\\lib\\site-packages (from cffi>=1.14->trio~=0.17->selenium) (2.22)\n",
      "Requirement already satisfied: h11<1,>=0.9.0 in c:\\users\\benjamin\\appdata\\local\\programs\\python\\python311\\lib\\site-packages (from wsproto>=0.14->trio-websocket~=0.9->selenium) (0.14.0)\n",
      "Note: you may need to restart the kernel to use updated packages.\n"
     ]
    }
   ],
   "source": [
    "#%pip install pandas\n",
    "%pip install selenium\n",
    "%pip install selenium webdriver-manager pandas"
   ]
  },
  {
   "cell_type": "code",
   "execution_count": 9,
   "id": "1721a72d",
   "metadata": {},
   "outputs": [],
   "source": [
    "from selenium import webdriver\n",
    "from selenium.webdriver.common.by import By\n",
    "from selenium.webdriver.common.action_chains import ActionChains\n",
    "from selenium.webdriver.chrome.service import Service\n",
    "from webdriver_manager.chrome import ChromeDriverManager\n",
    "from selenium.webdriver.support.ui import WebDriverWait\n",
    "from selenium.webdriver.support import expected_conditions as EC\n",
    "import pandas as pd"
   ]
  },
  {
   "cell_type": "code",
   "execution_count": 10,
   "id": "60d1a81f",
   "metadata": {},
   "outputs": [],
   "source": [
    "# Inicializas tu driver y entras a la página\n",
    "options = webdriver.ChromeOptions()\n",
    "driver = webdriver.Chrome(service=Service(ChromeDriverManager().install()), options=options)\n",
    "driver.get(\"https://censos2017.inei.gob.pe/redatam/\")\n",
    "\n",
    "# Espera implícita para que cargue el frameset\n",
    "driver.implicitly_wait(10)\n"
   ]
  },
  {
   "cell_type": "code",
   "execution_count": 11,
   "id": "81b7d782",
   "metadata": {},
   "outputs": [
    {
     "name": "stdout",
     "output_type": "stream",
     "text": [
      "✅ Llegaste a ‘Preguntas de Población’ y ya estás en el frame de Output\n"
     ]
    }
   ],
   "source": [
    "def switch_to_index_frame(driver):\n",
    "    driver.switch_to.default_content()\n",
    "    driver.switch_to.frame(0)            # frame “Portal”\n",
    "    driver.switch_to.frame(\"Index\")      # iframe con el sidebar\n",
    "\n",
    "# 1) Ve al frame del sidebar\n",
    "switch_to_index_frame(driver)\n",
    "\n",
    "# 2) Expande ambos niveles de menú\n",
    "for header_text in [\"Lista de Áreas-Mapas Temáticos\", \"Lista de Preguntas\"]:\n",
    "    hdr = WebDriverWait(driver, 10).until(EC.element_to_be_clickable(\n",
    "        (By.XPATH, f\"//h3[normalize-space()='{header_text}']\")\n",
    "    ))\n",
    "    # hacemos scroll y clic con JS por si acaso\n",
    "    driver.execute_script(\"arguments[0].scrollIntoView(true); arguments[0].click();\", hdr)\n",
    "\n",
    "# 3a) OPCIÓN A: clic directo sobre el enlace por texto de link\n",
    "link = WebDriverWait(driver, 10).until(EC.element_to_be_clickable(\n",
    "    (By.LINK_TEXT, \"Preguntas de Población\")\n",
    "))\n",
    "driver.execute_script(\"arguments[0].click();\", link)\n",
    "\n",
    "\n",
    "\n",
    "# 4) Cambia al frame Output para trabajar con el formulario\n",
    "driver.switch_to.default_content()\n",
    "driver.switch_to.frame(0)            # frame “Portal”\n",
    "driver.switch_to.frame(\"Output\")     # frame donde carga el formulario de filtros\n",
    "\n",
    "print(\"✅ Llegaste a ‘Preguntas de Población’ y ya estás en el frame de Output\")\n",
    "\n"
   ]
  },
  {
   "cell_type": "code",
   "execution_count": 12,
   "id": "d73ef345",
   "metadata": {},
   "outputs": [],
   "source": [
    "def generador_tabla(driver,filtro):\n",
    "    from selenium.webdriver.common.by import By\n",
    "    from selenium.webdriver.support.ui import WebDriverWait, Select\n",
    "    from selenium.webdriver.support import expected_conditions as EC\n",
    "\n",
    "    # asume que ya hiciste:\n",
    "    # driver.switch_to.default_content()\n",
    "    # driver.switch_to.frame(0)\n",
    "    # driver.switch_to.frame(\"Output\")\n",
    "\n",
    "    wait = WebDriverWait(driver, 10)\n",
    "\n",
    "    # 1) Espera a que aparezca el <form>\n",
    "    wait.until(EC.presence_of_element_located((By.NAME, \"RpEasyList\")))\n",
    "\n",
    "    # 2) Deseleccionar todas las variables por defecto y seleccionar solo la que quieres\n",
    "    var_select = Select(driver.find_element(By.NAME, \"VARIABLE\"))\n",
    "    var_select.deselect_all()                             # quita Poblacio.PENCARE y Poblacio.C5P41\n",
    "    var_select.select_by_value(\"Poblacio.C5P6\")           # P: ¿Hace 5 años vivía en este distrito?\n",
    "\n",
    "    # 3) Nivel de salida → Departamento\n",
    "    Select(driver.find_element(By.NAME, \"OUTPUT\")).select_by_value(filtro)\n",
    "\n",
    "    # 4) (Opcional) Asegúrate de que SELECTION quede en “ALL” para todos los departamentos\n",
    "    Select(driver.find_element(By.NAME, \"SELECTION\")).select_by_value(\"ALL\")\n",
    "\n",
    "    # 5) Ejecutar la consulta\n",
    "    driver.find_element(By.NAME, \"Submit\").click()\n",
    "    return "
   ]
  },
  {
   "cell_type": "code",
   "execution_count": 13,
   "id": "41d92076",
   "metadata": {},
   "outputs": [],
   "source": [
    "\n",
    "def guardar_info(driver):\n",
    "    # Encuentra la tabla\n",
    "    tabla = driver.find_element(By.CSS_SELECTOR, \"div.CSSTableGenerator table\")\n",
    "\n",
    "    # Extrae filas\n",
    "    filas = tabla.find_elements(By.TAG_NAME, \"tr\")\n",
    "\n",
    "    # Inicializa lista de datos\n",
    "    data = []\n",
    "\n",
    "    for fila in filas:\n",
    "        celdas = fila.find_elements(By.TAG_NAME, \"td\")\n",
    "        textos = [celda.text.strip() for celda in celdas if celda.text.strip() != '']\n",
    "\n",
    "        # Filtramos filas con 5 o más elementos válidos (Código, Nombre, 3 valores)\n",
    "        if len(textos) >= 5:\n",
    "            codigo = textos[0]\n",
    "            nombre = textos[1]\n",
    "            valores = textos[2:5]\n",
    "\n",
    "            # Limpia valores\n",
    "            valores = [v.replace(\" \", \"\").replace(\",\", \"\") for v in valores]\n",
    "\n",
    "            # Verifica que hay 3 valores\n",
    "            if len(valores) == 3:\n",
    "                fila_dict = {\n",
    "                    \"Código\": codigo,\n",
    "                    \"Departamento\": nombre,\n",
    "                    \"Aún no había nacido\": valores[0],\n",
    "                    \"Sí, vivía hace 5 años en este distrito\": valores[1],\n",
    "                    \"No vivía hace 5 años en este distrito\": valores[2]\n",
    "                }\n",
    "                data.append(fila_dict)\n",
    "\n",
    "    # Crea DataFrame\n",
    "    df = pd.DataFrame(data)\n",
    "\n",
    "    return df"
   ]
  },
  {
   "cell_type": "code",
   "execution_count": 14,
   "id": "a108b3c6",
   "metadata": {},
   "outputs": [],
   "source": [
    "def volver_a_preguntas_poblacion(driver):\n",
    "    driver.switch_to.default_content()\n",
    "    driver.switch_to.frame(0)            # frame “Portal”\n",
    "    driver.switch_to.frame(\"Index\")      # iframe con el sidebar\n",
    "\n",
    "    # Expandir \"Lista de Preguntas\"\n",
    "    hdr = WebDriverWait(driver, 10).until(EC.element_to_be_clickable(\n",
    "        (By.XPATH, \"//h3[normalize-space()='Lista de Preguntas']\")\n",
    "    ))\n",
    "    driver.execute_script(\"arguments[0].scrollIntoView(true); arguments[0].click();\", hdr)\n",
    "\n",
    "    # Clic en \"Preguntas de Población\"\n",
    "    link = WebDriverWait(driver, 10).until(EC.element_to_be_clickable(\n",
    "        (By.LINK_TEXT, \"Preguntas de Población\")\n",
    "    ))\n",
    "    driver.execute_script(\"arguments[0].click();\", link)\n",
    "\n",
    "    # Cambiar a frame Output\n",
    "    driver.switch_to.default_content()\n",
    "    driver.switch_to.frame(0)\n",
    "    driver.switch_to.frame(\"Output\")\n",
    "\n",
    "    print(\"🔁 Volviste a ‘Preguntas de Población’\")\n",
    "\n"
   ]
  },
  {
   "cell_type": "code",
   "execution_count": 15,
   "id": "8f4b895c",
   "metadata": {},
   "outputs": [
    {
     "name": "stdout",
     "output_type": "stream",
     "text": [
      "🔁 Volviste a ‘Preguntas de Población’\n"
     ]
    }
   ],
   "source": [
    "#Primero filtrado\n",
    "generador_tabla(driver,\"Departam\")\n",
    "df1=guardar_info(driver)\n",
    "volver_a_preguntas_poblacion(driver)\n",
    "\n",
    "df1=df1.drop(index=0)"
   ]
  },
  {
   "cell_type": "code",
   "execution_count": 16,
   "id": "08f33243",
   "metadata": {},
   "outputs": [
    {
     "name": "stdout",
     "output_type": "stream",
     "text": [
      "🔁 Volviste a ‘Preguntas de Población’\n"
     ]
    }
   ],
   "source": [
    "#Segundo filtrado\n",
    "generador_tabla(driver,\"Provinci\")\n",
    "df2=guardar_info(driver)\n",
    "volver_a_preguntas_poblacion(driver)\n",
    "\n",
    "df2=df2.drop(index=0)"
   ]
  },
  {
   "cell_type": "code",
   "execution_count": 17,
   "id": "2ee53e4e",
   "metadata": {},
   "outputs": [],
   "source": [
    "#Tercer filtrado\n",
    "generador_tabla(driver,\"Distrito\")\n",
    "df3=guardar_info(driver)\n",
    "driver.quit()\n",
    "\n",
    "df3=df3.drop(index=0)"
   ]
  },
  {
   "cell_type": "code",
   "execution_count": 18,
   "id": "53322318",
   "metadata": {},
   "outputs": [
    {
     "data": {
      "text/html": [
       "<div>\n",
       "<style scoped>\n",
       "    .dataframe tbody tr th:only-of-type {\n",
       "        vertical-align: middle;\n",
       "    }\n",
       "\n",
       "    .dataframe tbody tr th {\n",
       "        vertical-align: top;\n",
       "    }\n",
       "\n",
       "    .dataframe thead th {\n",
       "        text-align: right;\n",
       "    }\n",
       "</style>\n",
       "<table border=\"1\" class=\"dataframe\">\n",
       "  <thead>\n",
       "    <tr style=\"text-align: right;\">\n",
       "      <th></th>\n",
       "      <th>Código</th>\n",
       "      <th>Departamento</th>\n",
       "      <th>Aún no había nacido</th>\n",
       "      <th>Sí, vivía hace 5 años en este distrito</th>\n",
       "      <th>No vivía hace 5 años en este distrito</th>\n",
       "    </tr>\n",
       "  </thead>\n",
       "  <tbody>\n",
       "    <tr>\n",
       "      <th>1</th>\n",
       "      <td>01</td>\n",
       "      <td>Departamento: Amazonas</td>\n",
       "      <td>38682</td>\n",
       "      <td>306105</td>\n",
       "      <td>34597</td>\n",
       "    </tr>\n",
       "    <tr>\n",
       "      <th>2</th>\n",
       "      <td>02</td>\n",
       "      <td>Departamento: Áncash</td>\n",
       "      <td>92974</td>\n",
       "      <td>905542</td>\n",
       "      <td>85003</td>\n",
       "    </tr>\n",
       "    <tr>\n",
       "      <th>3</th>\n",
       "      <td>03</td>\n",
       "      <td>Departamento: Apurímac</td>\n",
       "      <td>35677</td>\n",
       "      <td>328973</td>\n",
       "      <td>41109</td>\n",
       "    </tr>\n",
       "    <tr>\n",
       "      <th>4</th>\n",
       "      <td>04</td>\n",
       "      <td>Departamento: Arequipa</td>\n",
       "      <td>109771</td>\n",
       "      <td>1027473</td>\n",
       "      <td>245486</td>\n",
       "    </tr>\n",
       "    <tr>\n",
       "      <th>5</th>\n",
       "      <td>05</td>\n",
       "      <td>Departamento: Ayacucho</td>\n",
       "      <td>54200</td>\n",
       "      <td>489769</td>\n",
       "      <td>72207</td>\n",
       "    </tr>\n",
       "  </tbody>\n",
       "</table>\n",
       "</div>"
      ],
      "text/plain": [
       "  Código            Departamento Aún no había nacido  \\\n",
       "1     01  Departamento: Amazonas               38682   \n",
       "2     02    Departamento: Áncash               92974   \n",
       "3     03  Departamento: Apurímac               35677   \n",
       "4     04  Departamento: Arequipa              109771   \n",
       "5     05  Departamento: Ayacucho               54200   \n",
       "\n",
       "  Sí, vivía hace 5 años en este distrito No vivía hace 5 años en este distrito  \n",
       "1                                 306105                                 34597  \n",
       "2                                 905542                                 85003  \n",
       "3                                 328973                                 41109  \n",
       "4                                1027473                                245486  \n",
       "5                                 489769                                 72207  "
      ]
     },
     "execution_count": 18,
     "metadata": {},
     "output_type": "execute_result"
    }
   ],
   "source": [
    "df1.head()"
   ]
  },
  {
   "cell_type": "code",
   "execution_count": 19,
   "id": "024396c8",
   "metadata": {},
   "outputs": [
    {
     "data": {
      "text/html": [
       "<div>\n",
       "<style scoped>\n",
       "    .dataframe tbody tr th:only-of-type {\n",
       "        vertical-align: middle;\n",
       "    }\n",
       "\n",
       "    .dataframe tbody tr th {\n",
       "        vertical-align: top;\n",
       "    }\n",
       "\n",
       "    .dataframe thead th {\n",
       "        text-align: right;\n",
       "    }\n",
       "</style>\n",
       "<table border=\"1\" class=\"dataframe\">\n",
       "  <thead>\n",
       "    <tr style=\"text-align: right;\">\n",
       "      <th></th>\n",
       "      <th>Código</th>\n",
       "      <th>Departamento</th>\n",
       "      <th>Aún no había nacido</th>\n",
       "      <th>Sí, vivía hace 5 años en este distrito</th>\n",
       "      <th>No vivía hace 5 años en este distrito</th>\n",
       "    </tr>\n",
       "  </thead>\n",
       "  <tbody>\n",
       "    <tr>\n",
       "      <th>1</th>\n",
       "      <td>0101</td>\n",
       "      <td>Amazonas, provincia: Chachapoyas</td>\n",
       "      <td>4519</td>\n",
       "      <td>41295</td>\n",
       "      <td>9692</td>\n",
       "    </tr>\n",
       "    <tr>\n",
       "      <th>2</th>\n",
       "      <td>0102</td>\n",
       "      <td>Amazonas, provincia: Bagua</td>\n",
       "      <td>7761</td>\n",
       "      <td>61137</td>\n",
       "      <td>5202</td>\n",
       "    </tr>\n",
       "    <tr>\n",
       "      <th>3</th>\n",
       "      <td>0103</td>\n",
       "      <td>Amazonas, provincia: Bongara</td>\n",
       "      <td>2226</td>\n",
       "      <td>20145</td>\n",
       "      <td>3266</td>\n",
       "    </tr>\n",
       "    <tr>\n",
       "      <th>4</th>\n",
       "      <td>0104</td>\n",
       "      <td>Amazonas, provincia: Condorcanqui</td>\n",
       "      <td>6693</td>\n",
       "      <td>34708</td>\n",
       "      <td>1069</td>\n",
       "    </tr>\n",
       "    <tr>\n",
       "      <th>5</th>\n",
       "      <td>0105</td>\n",
       "      <td>Amazonas, provincia: Luya</td>\n",
       "      <td>4325</td>\n",
       "      <td>36941</td>\n",
       "      <td>3170</td>\n",
       "    </tr>\n",
       "  </tbody>\n",
       "</table>\n",
       "</div>"
      ],
      "text/plain": [
       "  Código                       Departamento Aún no había nacido  \\\n",
       "1   0101   Amazonas, provincia: Chachapoyas                4519   \n",
       "2   0102         Amazonas, provincia: Bagua                7761   \n",
       "3   0103       Amazonas, provincia: Bongara                2226   \n",
       "4   0104  Amazonas, provincia: Condorcanqui                6693   \n",
       "5   0105          Amazonas, provincia: Luya                4325   \n",
       "\n",
       "  Sí, vivía hace 5 años en este distrito No vivía hace 5 años en este distrito  \n",
       "1                                  41295                                  9692  \n",
       "2                                  61137                                  5202  \n",
       "3                                  20145                                  3266  \n",
       "4                                  34708                                  1069  \n",
       "5                                  36941                                  3170  "
      ]
     },
     "execution_count": 19,
     "metadata": {},
     "output_type": "execute_result"
    }
   ],
   "source": [
    "df2.head()"
   ]
  },
  {
   "cell_type": "code",
   "execution_count": 20,
   "id": "1e870d5b",
   "metadata": {},
   "outputs": [
    {
     "data": {
      "text/html": [
       "<div>\n",
       "<style scoped>\n",
       "    .dataframe tbody tr th:only-of-type {\n",
       "        vertical-align: middle;\n",
       "    }\n",
       "\n",
       "    .dataframe tbody tr th {\n",
       "        vertical-align: top;\n",
       "    }\n",
       "\n",
       "    .dataframe thead th {\n",
       "        text-align: right;\n",
       "    }\n",
       "</style>\n",
       "<table border=\"1\" class=\"dataframe\">\n",
       "  <thead>\n",
       "    <tr style=\"text-align: right;\">\n",
       "      <th></th>\n",
       "      <th>Código</th>\n",
       "      <th>Departamento</th>\n",
       "      <th>Aún no había nacido</th>\n",
       "      <th>Sí, vivía hace 5 años en este distrito</th>\n",
       "      <th>No vivía hace 5 años en este distrito</th>\n",
       "    </tr>\n",
       "  </thead>\n",
       "  <tbody>\n",
       "    <tr>\n",
       "      <th>1</th>\n",
       "      <td>010101</td>\n",
       "      <td>Amazonas, Chachapoyas, distrito: Chachapoyas</td>\n",
       "      <td>2633</td>\n",
       "      <td>22774</td>\n",
       "      <td>7182</td>\n",
       "    </tr>\n",
       "    <tr>\n",
       "      <th>2</th>\n",
       "      <td>010102</td>\n",
       "      <td>Amazonas, Chachapoyas, distrito: Asunción</td>\n",
       "      <td>22</td>\n",
       "      <td>220</td>\n",
       "      <td>20</td>\n",
       "    </tr>\n",
       "    <tr>\n",
       "      <th>3</th>\n",
       "      <td>010103</td>\n",
       "      <td>Amazonas, Chachapoyas, distrito: Balsas</td>\n",
       "      <td>111</td>\n",
       "      <td>938</td>\n",
       "      <td>87</td>\n",
       "    </tr>\n",
       "    <tr>\n",
       "      <th>4</th>\n",
       "      <td>010104</td>\n",
       "      <td>Amazonas, Chachapoyas, distrito: Cheto</td>\n",
       "      <td>44</td>\n",
       "      <td>533</td>\n",
       "      <td>65</td>\n",
       "    </tr>\n",
       "    <tr>\n",
       "      <th>5</th>\n",
       "      <td>010105</td>\n",
       "      <td>Amazonas, Chachapoyas, distrito: Chiliquin</td>\n",
       "      <td>49</td>\n",
       "      <td>483</td>\n",
       "      <td>53</td>\n",
       "    </tr>\n",
       "  </tbody>\n",
       "</table>\n",
       "</div>"
      ],
      "text/plain": [
       "   Código                                  Departamento Aún no había nacido  \\\n",
       "1  010101  Amazonas, Chachapoyas, distrito: Chachapoyas                2633   \n",
       "2  010102     Amazonas, Chachapoyas, distrito: Asunción                  22   \n",
       "3  010103       Amazonas, Chachapoyas, distrito: Balsas                 111   \n",
       "4  010104        Amazonas, Chachapoyas, distrito: Cheto                  44   \n",
       "5  010105    Amazonas, Chachapoyas, distrito: Chiliquin                  49   \n",
       "\n",
       "  Sí, vivía hace 5 años en este distrito No vivía hace 5 años en este distrito  \n",
       "1                                  22774                                  7182  \n",
       "2                                    220                                    20  \n",
       "3                                    938                                    87  \n",
       "4                                    533                                    65  \n",
       "5                                    483                                    53  "
      ]
     },
     "execution_count": 20,
     "metadata": {},
     "output_type": "execute_result"
    }
   ],
   "source": [
    "df3.head()"
   ]
  },
  {
   "cell_type": "code",
   "execution_count": 21,
   "id": "684ab2b3",
   "metadata": {},
   "outputs": [
    {
     "name": "stdout",
     "output_type": "stream",
     "text": [
      "<class 'pandas.core.frame.DataFrame'>\n",
      "RangeIndex: 25 entries, 1 to 25\n",
      "Data columns (total 5 columns):\n",
      " #   Column                                  Non-Null Count  Dtype \n",
      "---  ------                                  --------------  ----- \n",
      " 0   Código                                  25 non-null     object\n",
      " 1   Departamento                            25 non-null     object\n",
      " 2   Aún no había nacido                     25 non-null     object\n",
      " 3   Sí, vivía hace 5 años en este distrito  25 non-null     object\n",
      " 4   No vivía hace 5 años en este distrito   25 non-null     object\n",
      "dtypes: object(5)\n",
      "memory usage: 1.1+ KB\n"
     ]
    }
   ],
   "source": [
    "df1.info(\n",
    ")"
   ]
  },
  {
   "cell_type": "code",
   "execution_count": 22,
   "id": "1ac7a0a2",
   "metadata": {},
   "outputs": [
    {
     "name": "stdout",
     "output_type": "stream",
     "text": [
      "<class 'pandas.core.frame.DataFrame'>\n",
      "RangeIndex: 196 entries, 1 to 196\n",
      "Data columns (total 5 columns):\n",
      " #   Column                                  Non-Null Count  Dtype \n",
      "---  ------                                  --------------  ----- \n",
      " 0   Código                                  196 non-null    object\n",
      " 1   Departamento                            196 non-null    object\n",
      " 2   Aún no había nacido                     196 non-null    object\n",
      " 3   Sí, vivía hace 5 años en este distrito  196 non-null    object\n",
      " 4   No vivía hace 5 años en este distrito   196 non-null    object\n",
      "dtypes: object(5)\n",
      "memory usage: 7.8+ KB\n"
     ]
    }
   ],
   "source": [
    "df2.info()"
   ]
  },
  {
   "cell_type": "code",
   "execution_count": 23,
   "id": "3c48e334",
   "metadata": {},
   "outputs": [
    {
     "name": "stdout",
     "output_type": "stream",
     "text": [
      "<class 'pandas.core.frame.DataFrame'>\n",
      "RangeIndex: 1874 entries, 1 to 1874\n",
      "Data columns (total 5 columns):\n",
      " #   Column                                  Non-Null Count  Dtype \n",
      "---  ------                                  --------------  ----- \n",
      " 0   Código                                  1874 non-null   object\n",
      " 1   Departamento                            1874 non-null   object\n",
      " 2   Aún no había nacido                     1874 non-null   object\n",
      " 3   Sí, vivía hace 5 años en este distrito  1874 non-null   object\n",
      " 4   No vivía hace 5 años en este distrito   1874 non-null   object\n",
      "dtypes: object(5)\n",
      "memory usage: 73.3+ KB\n"
     ]
    }
   ],
   "source": [
    "df3.info()"
   ]
  },
  {
   "cell_type": "code",
   "execution_count": 24,
   "id": "3694325c",
   "metadata": {},
   "outputs": [],
   "source": [
    "df1.to_csv(\"Movimiento_Departamento.csv\", index=False)"
   ]
  },
  {
   "cell_type": "code",
   "execution_count": 25,
   "id": "da875f58",
   "metadata": {},
   "outputs": [],
   "source": [
    "df2.to_csv(\"Movimiento_Provincia.csv\", index=False)"
   ]
  },
  {
   "cell_type": "code",
   "execution_count": 26,
   "id": "07c994da",
   "metadata": {},
   "outputs": [],
   "source": [
    "df3.to_csv(\"Movimientos_Distrito.csv\", index=False)"
   ]
  },
  {
   "cell_type": "code",
   "execution_count": null,
   "id": "2f6169b4",
   "metadata": {},
   "outputs": [],
   "source": []
  }
 ],
 "metadata": {
  "kernelspec": {
   "display_name": "Python 3",
   "language": "python",
   "name": "python3"
  },
  "language_info": {
   "codemirror_mode": {
    "name": "ipython",
    "version": 3
   },
   "file_extension": ".py",
   "mimetype": "text/x-python",
   "name": "python",
   "nbconvert_exporter": "python",
   "pygments_lexer": "ipython3",
   "version": "3.11.8"
  }
 },
 "nbformat": 4,
 "nbformat_minor": 5
}
